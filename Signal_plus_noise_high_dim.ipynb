{
 "cells": [
  {
   "cell_type": "code",
   "execution_count": 405,
   "metadata": {},
   "outputs": [],
   "source": [
    "import numpy as np\n",
    "import pandas as pd\n",
    "import math\n",
    "from scipy.stats import norm\n",
    "from scipy.optimize import fsolve\n",
    "from numpy.linalg import inv\n",
    "import scipy.integrate"
   ]
  },
  {
   "cell_type": "code",
   "execution_count": 406,
   "metadata": {},
   "outputs": [],
   "source": [
    "n=50\n",
    "Q=[]"
   ]
  },
  {
   "cell_type": "code",
   "execution_count": 407,
   "metadata": {},
   "outputs": [
    {
     "data": {
      "text/plain": [
       "array([[0.96030204, 0.72856101, 0.78835018, 0.01704618],\n",
       "       [0.2697762 , 0.23978557, 0.38146812, 0.68125919],\n",
       "       [0.12770817, 0.88788085, 0.13105754, 0.98561835],\n",
       "       [0.76081893, 0.61013186, 0.68242059, 0.45509055]])"
      ]
     },
     "execution_count": 407,
     "metadata": {},
     "output_type": "execute_result"
    }
   ],
   "source": [
    "U=np.random.rand(4,4)\n",
    "U"
   ]
  },
  {
   "cell_type": "code",
   "execution_count": 408,
   "metadata": {},
   "outputs": [],
   "source": [
    "for i in range(n):\n",
    "    Q.append((i+1)**0.5*np.dot(U,U.transpose()))"
   ]
  },
  {
   "cell_type": "code",
   "execution_count": 409,
   "metadata": {},
   "outputs": [],
   "source": [
    "mu=[0,0,0,0]\n",
    "sigma=np.array([[1,0,0,0],[0,1,0,0],[0,0,1,0],[0,0,0,1]])"
   ]
  },
  {
   "cell_type": "code",
   "execution_count": 410,
   "metadata": {},
   "outputs": [],
   "source": [
    "X=[]\n",
    "for i in range(n):\n",
    "    X.append(np.random.multivariate_normal(mu,sigma+Q[i]))"
   ]
  },
  {
   "cell_type": "code",
   "execution_count": null,
   "metadata": {},
   "outputs": [],
   "source": []
  },
  {
   "cell_type": "code",
   "execution_count": 411,
   "metadata": {},
   "outputs": [],
   "source": [
    "from numpy.linalg import inv"
   ]
  },
  {
   "cell_type": "code",
   "execution_count": null,
   "metadata": {},
   "outputs": [],
   "source": []
  },
  {
   "cell_type": "code",
   "execution_count": 439,
   "metadata": {},
   "outputs": [],
   "source": [
    " def ML(paramlist):\n",
    "    mu1=paramlist[0]\n",
    "    mu2=paramlist[1]\n",
    "    mu3=paramlist[2]\n",
    "    mu4=paramlist[3]\n",
    "    sigma1=paramlist[4]\n",
    "    sigma2=paramlist[5]\n",
    "    sigma3=paramlist[6]\n",
    "    sigma4=paramlist[7]\n",
    "    \n",
    "    s1=np.zeros((4,4))\n",
    "    s2=np.zeros((4,4))\n",
    "        \n",
    "    for i in range(n):\n",
    "        s1=s1+np.diag(np.matmul(inv(np.diag([sigma1,sigma2,sigma3,sigma4])+Q[i]),[mu1,mu2,mu3,mu4])-np.matmul(inv(np.diag([sigma1,sigma2,sigma3,sigma4])+Q[i]),X[i]))\n",
    "        s2=s2+inv(np.diag([sigma1,sigma2,sigma3,sigma4])+Q[i])-np.matmul(inv(np.diag([sigma1,sigma2,sigma3,sigma4])+Q[i]),np.matmul(np.outer((X[i]-[mu1,mu2,mu3,mu4]),(X[i]-[mu1,mu2,mu3,mu4])),inv(np.diag([sigma1,sigma2,sigma3,sigma4])+Q[i])))\n",
    "    return s1[0][0],s1[1][1],s1[2][2],s1[3][3],s2[0][0],s2[1][1],s2[2][2],s2[3][3]"
   ]
  },
  {
   "cell_type": "code",
   "execution_count": 440,
   "metadata": {},
   "outputs": [
    {
     "data": {
      "text/plain": [
       "array([0.03453586, 0.11134712, 0.29931846, 0.07930058, 1.37036645,\n",
       "       0.78866411, 0.7637776 , 0.74111034])"
      ]
     },
     "execution_count": 440,
     "metadata": {},
     "output_type": "execute_result"
    }
   ],
   "source": [
    "theta_hat=fsolve(ML,[0,0,0,0,1,1,1,1])\n",
    "theta_hat"
   ]
  },
  {
   "cell_type": "code",
   "execution_count": 414,
   "metadata": {},
   "outputs": [
    {
     "data": {
      "text/plain": [
       "array([-0.06611272,  0.06646504,  0.23811125, -0.00638896])"
      ]
     },
     "execution_count": 414,
     "metadata": {},
     "output_type": "execute_result"
    }
   ],
   "source": [
    "mu_hat=theta_hat[0:4]\n",
    "mu_hat"
   ]
  },
  {
   "cell_type": "code",
   "execution_count": 415,
   "metadata": {},
   "outputs": [
    {
     "data": {
      "text/plain": [
       "array([[1.41222322, 0.        , 0.        , 0.        ],\n",
       "       [0.        , 1.03674148, 0.        , 0.        ],\n",
       "       [0.        , 0.        , 0.24453592, 0.        ],\n",
       "       [0.        , 0.        , 0.        , 0.69970858]])"
      ]
     },
     "execution_count": 415,
     "metadata": {},
     "output_type": "execute_result"
    }
   ],
   "source": [
    "sigma_hat=np.array([[theta_hat[4],0,0,0],[0,theta_hat[5],0,0],\n",
    "                    [0,0,theta_hat[6],0],[0,0,0,theta_hat[7]]])\n",
    "sigma_hat"
   ]
  },
  {
   "cell_type": "code",
   "execution_count": 416,
   "metadata": {},
   "outputs": [
    {
     "name": "stdout",
     "output_type": "stream",
     "text": [
      "[[1. 0. 0. 0.]\n",
      " [0. 0. 0. 0.]\n",
      " [0. 0. 0. 0.]\n",
      " [0. 0. 0. 0.]]\n",
      "[[0. 0. 0. 0.]\n",
      " [0. 1. 0. 0.]\n",
      " [0. 0. 0. 0.]\n",
      " [0. 0. 0. 0.]]\n",
      "[[0. 0. 0. 0.]\n",
      " [0. 0. 0. 0.]\n",
      " [0. 0. 1. 0.]\n",
      " [0. 0. 0. 0.]]\n",
      "[[0. 0. 0. 0.]\n",
      " [0. 0. 0. 0.]\n",
      " [0. 0. 0. 0.]\n",
      " [0. 0. 0. 1.]]\n",
      "[[0. 1. 0. 0.]\n",
      " [0. 0. 0. 0.]\n",
      " [0. 0. 0. 0.]\n",
      " [0. 0. 0. 0.]]\n",
      "[[0. 0. 1. 0.]\n",
      " [0. 0. 0. 0.]\n",
      " [0. 0. 0. 0.]\n",
      " [0. 0. 0. 0.]]\n",
      "[[0. 0. 0. 1.]\n",
      " [0. 0. 0. 0.]\n",
      " [0. 0. 0. 0.]\n",
      " [0. 0. 0. 0.]]\n",
      "[[0. 0. 0. 0.]\n",
      " [0. 0. 1. 0.]\n",
      " [0. 0. 0. 0.]\n",
      " [0. 0. 0. 0.]]\n",
      "[[0. 0. 0. 0.]\n",
      " [0. 0. 0. 1.]\n",
      " [0. 0. 0. 0.]\n",
      " [0. 0. 0. 0.]]\n",
      "[[0. 0. 0. 0.]\n",
      " [0. 0. 0. 0.]\n",
      " [0. 0. 0. 1.]\n",
      " [0. 0. 0. 0.]]\n"
     ]
    }
   ],
   "source": [
    "a1=np.zeros((4,4))\n",
    "a1[0][0]=1\n",
    "a2=np.zeros((4,4))\n",
    "a2[1][1]=1\n",
    "a3=np.zeros((4,4))\n",
    "a3[2][2]=1\n",
    "a4=np.zeros((4,4))\n",
    "a4[3][3]=1\n",
    "a12=np.zeros((4,4))\n",
    "a12[0][1]=1\n",
    "a13=np.zeros((4,4))\n",
    "a13[0][2]=1\n",
    "a14=np.zeros((4,4))\n",
    "a14[0][3]=1\n",
    "a23=np.zeros((4,4))\n",
    "a23[1][2]=1\n",
    "a24=np.zeros((4,4))\n",
    "a24[1][3]=1\n",
    "a34=np.zeros((4,4))\n",
    "a34[2][3]=1\n",
    "print(a1)\n",
    "print(a2)\n",
    "print(a3)\n",
    "print(a4)\n",
    "print(a12)\n",
    "print(a13)\n",
    "print(a14)\n",
    "print(a23)\n",
    "print(a24)\n",
    "print(a34)\n",
    "b1=a1[0]\n",
    "b2=a2[1]\n",
    "b3=a3[2]\n",
    "b4=a4[3]"
   ]
  },
  {
   "cell_type": "code",
   "execution_count": 417,
   "metadata": {},
   "outputs": [],
   "source": [
    "#Fisher Information Matrix\n",
    "fmu11=0\n",
    "fmu22=0\n",
    "fmu33=0\n",
    "fmu44=0\n",
    "fmu12=0\n",
    "fmu13=0\n",
    "fmu14=0\n",
    "fmu23=0\n",
    "fmu24=0\n",
    "fmu34=0\n",
    "for i in range(n):\n",
    "    fmu11=fmu11+1/n*np.matmul(np.matmul(np.transpose(b1),inv(sigma_hat+Q[i])),b1)\n",
    "    fmu22=fmu22+1/n*np.matmul(np.matmul(np.transpose(b2),inv(sigma_hat+Q[i])),b2)\n",
    "    fmu33=fmu33+1/n*np.matmul(np.matmul(np.transpose(b3),inv(sigma_hat+Q[i])),b3)\n",
    "    fmu44=fmu44+1/n*np.matmul(np.matmul(np.transpose(b4),inv(sigma_hat+Q[i])),b4)\n",
    "    fmu12=fmu12+1/n*np.matmul(np.matmul(np.transpose(b1),inv(sigma_hat+Q[i])),b2)\n",
    "    fmu13=fmu13+1/n*np.matmul(np.matmul(np.transpose(b1),inv(sigma_hat+Q[i])),b3)\n",
    "    fmu14=fmu14+1/n*np.matmul(np.matmul(np.transpose(b1),inv(sigma_hat+Q[i])),b4)\n",
    "    fmu23=fmu23+1/n*np.matmul(np.matmul(np.transpose(b2),inv(sigma_hat+Q[i])),b3)\n",
    "    fmu24=fmu24+1/n*np.matmul(np.matmul(np.transpose(b2),inv(sigma_hat+Q[i])),b4)\n",
    "    fmu34=fmu34+1/n*np.matmul(np.matmul(np.transpose(b3),inv(sigma_hat+Q[i])),b4)\n",
    "# cross part of mu and sigma is zero in Fisher Information matrix\n"
   ]
  },
  {
   "cell_type": "code",
   "execution_count": 418,
   "metadata": {},
   "outputs": [
    {
     "data": {
      "text/plain": [
       "array([[ 0.34158107,  0.05686433,  0.05553347, -0.39227263],\n",
       "       [ 0.05686433,  0.60675783, -0.18986102, -0.24210768],\n",
       "       [ 0.05553347, -0.18986102,  0.30406222, -0.15221204],\n",
       "       [-0.39227263, -0.24210768, -0.15221204,  0.73703454]])"
      ]
     },
     "execution_count": 418,
     "metadata": {},
     "output_type": "execute_result"
    }
   ],
   "source": [
    "fmu=np.array([[fmu11,fmu12,fmu13,fmu14],[fmu12,fmu22,fmu23,fmu24],\n",
    "                 [fmu13,fmu23,fmu33,fmu34],[fmu14,fmu24,fmu34,fmu44]])\n",
    "fmu"
   ]
  },
  {
   "cell_type": "code",
   "execution_count": 419,
   "metadata": {},
   "outputs": [],
   "source": [
    "fsigma11=0\n",
    "fsigma22=0\n",
    "fsigma33=0\n",
    "fsigma44=0\n",
    "fsigma12=0\n",
    "fsigma13=0\n",
    "fsigma14=0\n",
    "fsigma23=0\n",
    "fsigma24=0\n",
    "fsigma34=0\n",
    "for i in range(n):\n",
    "    fsigma11=fsigma11+1/n*(1/2)*np.trace(inv(sigma_hat+Q[i])*a1*inv(sigma_hat+Q[i])*a1)\n",
    "    fsigma22=fsigma22+1/n*(1/2)*np.trace(inv(sigma_hat+Q[i])*a2*inv(sigma_hat+Q[i])*a2)\n",
    "    fsigma33=fsigma33+1/n*(1/2)*np.trace(inv(sigma_hat+Q[i])*a3*inv(sigma_hat+Q[i])*a3)\n",
    "    fsigma44=fsigma44+1/n*(1/2)*np.trace(inv(sigma_hat+Q[i])*a4*inv(sigma_hat+Q[i])*a4)\n",
    "    fsigma12=fsigma12+1/n*(1/2)*np.trace(inv(sigma_hat+Q[i])*a1*inv(sigma_hat+Q[i])*a2)\n",
    "    fsigma13=fsigma13+1/n*(1/2)*np.trace(inv(sigma_hat+Q[i])*a1*inv(sigma_hat+Q[i])*a3)\n",
    "    fsigma14=fsigma14+1/n*(1/2)*np.trace(inv(sigma_hat+Q[i])*a1*inv(sigma_hat+Q[i])*a4)\n",
    "    fsigma23=fsigma23+1/n*(1/2)*np.trace(inv(sigma_hat+Q[i])*a2*inv(sigma_hat+Q[i])*a3)\n",
    "    fsigma24=fsigma24+1/n*(1/2)*np.trace(inv(sigma_hat+Q[i])*a2*inv(sigma_hat+Q[i])*a4)\n",
    "    fsigma34=fsigma34+1/n*(1/2)*np.trace(inv(sigma_hat+Q[i])*a3*inv(sigma_hat+Q[i])*a4)"
   ]
  },
  {
   "cell_type": "code",
   "execution_count": 420,
   "metadata": {},
   "outputs": [
    {
     "data": {
      "text/plain": [
       "array([[0.05879248, 0.        , 0.        , 0.        ],\n",
       "       [0.        , 0.18641633, 0.        , 0.        ],\n",
       "       [0.        , 0.        , 0.0530936 , 0.        ],\n",
       "       [0.        , 0.        , 0.        , 0.27229119]])"
      ]
     },
     "execution_count": 420,
     "metadata": {},
     "output_type": "execute_result"
    }
   ],
   "source": [
    "fsigma=np.array([[fsigma11,fsigma12,fsigma13,fsigma14],[fsigma12,fsigma22,fsigma23,fsigma24],\n",
    "                 [fsigma13,fsigma23,fsigma33,fsigma34],[fsigma14,fsigma24,fsigma34,fsigma44]])\n",
    "fsigma"
   ]
  },
  {
   "cell_type": "code",
   "execution_count": 421,
   "metadata": {},
   "outputs": [
    {
     "data": {
      "text/plain": [
       "array([[ 0.34158107,  0.05686433,  0.05553347, -0.39227263,  0.        ,\n",
       "         0.        ,  0.        ,  0.        ],\n",
       "       [ 0.05686433,  0.60675783, -0.18986102, -0.24210768,  0.        ,\n",
       "         0.        ,  0.        ,  0.        ],\n",
       "       [ 0.05553347, -0.18986102,  0.30406222, -0.15221204,  0.        ,\n",
       "         0.        ,  0.        ,  0.        ],\n",
       "       [-0.39227263, -0.24210768, -0.15221204,  0.73703454,  0.        ,\n",
       "         0.        ,  0.        ,  0.        ],\n",
       "       [ 0.        ,  0.        ,  0.        ,  0.        ,  0.05879248,\n",
       "         0.        ,  0.        ,  0.        ],\n",
       "       [ 0.        ,  0.        ,  0.        ,  0.        ,  0.        ,\n",
       "         0.18641633,  0.        ,  0.        ],\n",
       "       [ 0.        ,  0.        ,  0.        ,  0.        ,  0.        ,\n",
       "         0.        ,  0.0530936 ,  0.        ],\n",
       "       [ 0.        ,  0.        ,  0.        ,  0.        ,  0.        ,\n",
       "         0.        ,  0.        ,  0.27229119]])"
      ]
     },
     "execution_count": 421,
     "metadata": {},
     "output_type": "execute_result"
    }
   ],
   "source": [
    "F=np.block([[fmu,np.zeros((4,4))],[np.zeros((4,4)),fsigma]])\n",
    "F"
   ]
  },
  {
   "cell_type": "code",
   "execution_count": 422,
   "metadata": {},
   "outputs": [
    {
     "data": {
      "text/plain": [
       "array([[ 0.34158107,  0.05686433,  0.05553347, -0.39227263],\n",
       "       [ 0.05686433,  0.60675783, -0.18986102, -0.24210768],\n",
       "       [ 0.05553347, -0.18986102,  0.30406222, -0.15221204],\n",
       "       [-0.39227263, -0.24210768, -0.15221204,  0.73703454]])"
      ]
     },
     "execution_count": 422,
     "metadata": {},
     "output_type": "execute_result"
    }
   ],
   "source": [
    "# Hessian Matrix\n",
    "hmu=0\n",
    "for i in range(n):\n",
    "    hmu=hmu+1/n*inv(sigma_hat+Q[i])\n",
    "hmu"
   ]
  },
  {
   "cell_type": "code",
   "execution_count": 423,
   "metadata": {},
   "outputs": [],
   "source": [
    "hsigma11=0\n",
    "hsigma22=0\n",
    "hsigma33=0\n",
    "hsigma44=0\n",
    "hsigma12=0\n",
    "hsigma13=0\n",
    "hsigma14=0\n",
    "hsigma23=0\n",
    "hsigma24=0\n",
    "hsigma34=0\n",
    "for i in range(n):\n",
    "    hsigma11=hsigma11-1/n*(1/2)*inv(sigma_hat+Q[i])*a1*inv(sigma_hat+Q[i])+ \\\n",
    "    1/n*(1/2)*inv(sigma_hat+Q[i])*a1*inv(sigma_hat+Q[i])*np.outer(X[i]-mu_hat,X[i]-mu_hat)*inv(sigma_hat+Q[i])+ \\\n",
    "    1/n*(1/2)*inv(sigma_hat+Q[i])*np.outer(X[i]-mu_hat,X[i]-mu_hat)*inv(sigma_hat+Q[i])*a1*inv(sigma_hat+Q[i])\n",
    "    hsigma22=hsigma22-1/n*(1/2)*inv(sigma_hat+Q[i])*a2*inv(sigma_hat+Q[i])+ \\\n",
    "    1/n*(1/2)*inv(sigma_hat+Q[i])*a2*inv(sigma_hat+Q[i])*np.outer(X[i]-mu_hat,X[i]-mu_hat)*inv(sigma_hat+Q[i])+ \\\n",
    "    1/n*(1/2)*inv(sigma_hat+Q[i])*np.outer(X[i]-mu_hat,X[i]-mu_hat)*inv(sigma_hat+Q[i])*a2*inv(sigma_hat+Q[i])\n",
    "    hsigma33=hsigma33-1/n*(1/2)*inv(sigma_hat+Q[i])*a3*inv(sigma_hat+Q[i])+ \\\n",
    "    1/n*(1/2)*inv(sigma_hat+Q[i])*a3*inv(sigma_hat+Q[i])*np.outer(X[i]-mu_hat,X[i]-mu_hat)*inv(sigma_hat+Q[i])+ \\\n",
    "    1/n*(1/2)*inv(sigma_hat+Q[i])*np.outer(X[i]-mu_hat,X[i]-mu_hat)*inv(sigma_hat+Q[i])*a3*inv(sigma_hat+Q[i])\n",
    "    hsigma44=hsigma44-1/n*(1/2)*inv(sigma_hat+Q[i])*a4*inv(sigma_hat+Q[i])+ \\\n",
    "    1/n*(1/2)*inv(sigma_hat+Q[i])*a4*inv(sigma_hat+Q[i])*np.outer(X[i]-mu_hat,X[i]-mu_hat)*inv(sigma_hat+Q[i])+ \\\n",
    "    1/n*(1/2)*inv(sigma_hat+Q[i])*np.outer(X[i]-mu_hat,X[i]-mu_hat)*inv(sigma_hat+Q[i])*a4*inv(sigma_hat+Q[i])"
   ]
  },
  {
   "cell_type": "code",
   "execution_count": 424,
   "metadata": {},
   "outputs": [
    {
     "data": {
      "text/plain": [
       "array([[0.50369033, 0.        , 0.        , 0.        ],\n",
       "       [0.        , 0.        , 0.        , 0.        ],\n",
       "       [0.        , 0.        , 0.        , 0.        ],\n",
       "       [0.        , 0.        , 0.        , 0.        ]])"
      ]
     },
     "execution_count": 424,
     "metadata": {},
     "output_type": "execute_result"
    }
   ],
   "source": [
    "hsigma11"
   ]
  },
  {
   "cell_type": "code",
   "execution_count": 425,
   "metadata": {},
   "outputs": [
    {
     "data": {
      "text/plain": [
       "array([[0.        , 0.        , 0.        , 0.        ],\n",
       "       [0.        , 0.69836991, 0.        , 0.        ],\n",
       "       [0.        , 0.        , 0.        , 0.        ],\n",
       "       [0.        , 0.        , 0.        , 0.        ]])"
      ]
     },
     "execution_count": 425,
     "metadata": {},
     "output_type": "execute_result"
    }
   ],
   "source": [
    "hsigma22"
   ]
  },
  {
   "cell_type": "code",
   "execution_count": 426,
   "metadata": {},
   "outputs": [
    {
     "data": {
      "text/plain": [
       "array([[0.        , 0.        , 0.        , 0.        ],\n",
       "       [0.        , 0.        , 0.        , 0.        ],\n",
       "       [0.        , 0.        , 0.18552536, 0.        ],\n",
       "       [0.        , 0.        , 0.        , 0.        ]])"
      ]
     },
     "execution_count": 426,
     "metadata": {},
     "output_type": "execute_result"
    }
   ],
   "source": [
    "hsigma33"
   ]
  },
  {
   "cell_type": "code",
   "execution_count": 427,
   "metadata": {},
   "outputs": [
    {
     "data": {
      "text/plain": [
       "array([[0.        , 0.        , 0.        , 0.        ],\n",
       "       [0.        , 0.        , 0.        , 0.        ],\n",
       "       [0.        , 0.        , 0.        , 0.        ],\n",
       "       [0.        , 0.        , 0.        , 3.73473788]])"
      ]
     },
     "execution_count": 427,
     "metadata": {},
     "output_type": "execute_result"
    }
   ],
   "source": [
    "hsigma44"
   ]
  },
  {
   "cell_type": "code",
   "execution_count": 428,
   "metadata": {},
   "outputs": [],
   "source": [
    "hsigma=np.array([[hsigma11[0][0],hsigma11[1][1],hsigma11[2][2],hsigma11[3][3]],[hsigma11[1][1],hsigma22[1][1],hsigma22[2][2],hsigma22[3][3]],\n",
    "                 [hsigma11[2][2],hsigma22[2][2],hsigma33[2][2],hsigma33[3][3]],[hsigma11[3][3],hsigma22[3][3],hsigma33[3][3],hsigma44[3][3]]])"
   ]
  },
  {
   "cell_type": "code",
   "execution_count": 429,
   "metadata": {},
   "outputs": [
    {
     "data": {
      "text/plain": [
       "array([[0.50369033, 0.        , 0.        , 0.        ],\n",
       "       [0.        , 0.69836991, 0.        , 0.        ],\n",
       "       [0.        , 0.        , 0.18552536, 0.        ],\n",
       "       [0.        , 0.        , 0.        , 3.73473788]])"
      ]
     },
     "execution_count": 429,
     "metadata": {},
     "output_type": "execute_result"
    }
   ],
   "source": [
    "hsigma"
   ]
  },
  {
   "cell_type": "code",
   "execution_count": 430,
   "metadata": {},
   "outputs": [],
   "source": [
    "hsigmamu1=0\n",
    "hsigmamu2=0\n",
    "hsigmamu3=0\n",
    "hsigmamu4=0\n",
    "for i in range(n):\n",
    "    hsigmamu1=hsigmamu1+1/n*np.matmul(inv(sigma_hat+Q[i])*a1*inv(sigma_hat+Q[i]),(X[i]-mu_hat))\n",
    "    hsigmamu2=hsigmamu2+1/n*np.matmul(inv(sigma_hat+Q[i])*a2*inv(sigma_hat+Q[i]),(X[i]-mu_hat))\n",
    "    hsigmamu3=hsigmamu3+1/n*np.matmul(inv(sigma_hat+Q[i])*a3*inv(sigma_hat+Q[i]),(X[i]-mu_hat))\n",
    "    hsigmamu4=hsigmamu4+1/n*np.matmul(inv(sigma_hat+Q[i])*a4*inv(sigma_hat+Q[i]),(X[i]-mu_hat))"
   ]
  },
  {
   "cell_type": "code",
   "execution_count": 431,
   "metadata": {},
   "outputs": [
    {
     "data": {
      "text/plain": [
       "array([0.02100372, 0.        , 0.        , 0.        ])"
      ]
     },
     "execution_count": 431,
     "metadata": {},
     "output_type": "execute_result"
    }
   ],
   "source": [
    "hsigmamu1"
   ]
  },
  {
   "cell_type": "code",
   "execution_count": 432,
   "metadata": {},
   "outputs": [
    {
     "data": {
      "text/plain": [
       "array([0.       , 0.0236271, 0.       , 0.       ])"
      ]
     },
     "execution_count": 432,
     "metadata": {},
     "output_type": "execute_result"
    }
   ],
   "source": [
    "hsigmamu2"
   ]
  },
  {
   "cell_type": "code",
   "execution_count": null,
   "metadata": {},
   "outputs": [],
   "source": []
  },
  {
   "cell_type": "code",
   "execution_count": 433,
   "metadata": {},
   "outputs": [],
   "source": [
    "hsigmamu=np.array([hsigmamu1,hsigmamu2,hsigmamu3,hsigmamu4])"
   ]
  },
  {
   "cell_type": "code",
   "execution_count": 434,
   "metadata": {},
   "outputs": [
    {
     "data": {
      "text/plain": [
       "array([[0.02100372, 0.        , 0.        , 0.        ],\n",
       "       [0.        , 0.0236271 , 0.        , 0.        ],\n",
       "       [0.        , 0.        , 0.00219583, 0.        ],\n",
       "       [0.        , 0.        , 0.        , 0.09853779]])"
      ]
     },
     "execution_count": 434,
     "metadata": {},
     "output_type": "execute_result"
    }
   ],
   "source": [
    "hsigmamu"
   ]
  },
  {
   "cell_type": "code",
   "execution_count": 435,
   "metadata": {},
   "outputs": [],
   "source": [
    "H=np.block([[hmu,hsigmamu],[hsigmamu,hsigma]])"
   ]
  },
  {
   "cell_type": "code",
   "execution_count": 436,
   "metadata": {},
   "outputs": [
    {
     "data": {
      "text/plain": [
       "array([[ 3.41581068e-01,  5.68643326e-02,  5.55334700e-02,\n",
       "        -3.92272632e-01,  2.10037170e-02,  0.00000000e+00,\n",
       "         0.00000000e+00,  0.00000000e+00],\n",
       "       [ 5.68643326e-02,  6.06757833e-01, -1.89861021e-01,\n",
       "        -2.42107681e-01,  0.00000000e+00,  2.36271049e-02,\n",
       "         0.00000000e+00,  0.00000000e+00],\n",
       "       [ 5.55334700e-02, -1.89861021e-01,  3.04062220e-01,\n",
       "        -1.52212041e-01,  0.00000000e+00,  0.00000000e+00,\n",
       "         2.19582629e-03,  0.00000000e+00],\n",
       "       [-3.92272632e-01, -2.42107681e-01, -1.52212041e-01,\n",
       "         7.37034540e-01,  0.00000000e+00,  0.00000000e+00,\n",
       "         0.00000000e+00,  9.85377917e-02],\n",
       "       [ 2.10037170e-02,  0.00000000e+00,  0.00000000e+00,\n",
       "         0.00000000e+00,  5.03690326e-01,  0.00000000e+00,\n",
       "         0.00000000e+00,  0.00000000e+00],\n",
       "       [ 0.00000000e+00,  2.36271049e-02,  0.00000000e+00,\n",
       "         0.00000000e+00,  0.00000000e+00,  6.98369909e-01,\n",
       "         0.00000000e+00,  0.00000000e+00],\n",
       "       [ 0.00000000e+00,  0.00000000e+00,  2.19582629e-03,\n",
       "         0.00000000e+00,  0.00000000e+00,  0.00000000e+00,\n",
       "         1.85525359e-01,  0.00000000e+00],\n",
       "       [ 0.00000000e+00,  0.00000000e+00,  0.00000000e+00,\n",
       "         9.85377917e-02,  0.00000000e+00,  0.00000000e+00,\n",
       "         0.00000000e+00,  3.73473788e+00]])"
      ]
     },
     "execution_count": 436,
     "metadata": {},
     "output_type": "execute_result"
    }
   ],
   "source": [
    "H"
   ]
  },
  {
   "cell_type": "code",
   "execution_count": null,
   "metadata": {},
   "outputs": [],
   "source": []
  }
 ],
 "metadata": {
  "kernelspec": {
   "display_name": "Python 3",
   "language": "python",
   "name": "python3"
  },
  "language_info": {
   "codemirror_mode": {
    "name": "ipython",
    "version": 3
   },
   "file_extension": ".py",
   "mimetype": "text/x-python",
   "name": "python",
   "nbconvert_exporter": "python",
   "pygments_lexer": "ipython3",
   "version": "3.7.6"
  }
 },
 "nbformat": 4,
 "nbformat_minor": 4
}
